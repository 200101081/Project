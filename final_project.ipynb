{
  "nbformat": 4,
  "nbformat_minor": 0,
  "metadata": {
    "colab": {
      "name": "final_project.ipynb",
      "provenance": [],
      "authorship_tag": "ABX9TyPDv0lTOkQp6FF+ah66fNA2",
      "include_colab_link": true
    },
    "kernelspec": {
      "name": "python3",
      "display_name": "Python 3"
    },
    "language_info": {
      "name": "python"
    }
  },
  "cells": [
    {
      "cell_type": "markdown",
      "metadata": {
        "id": "view-in-github",
        "colab_type": "text"
      },
      "source": [
        "<a href=\"https://colab.research.google.com/github/200101081/Project/blob/main/final_project.ipynb\" target=\"_parent\"><img src=\"https://colab.research.google.com/assets/colab-badge.svg\" alt=\"Open In Colab\"/></a>"
      ]
    },
    {
      "cell_type": "code",
      "metadata": {
        "id": "foHSKMwm3zoR"
      },
      "source": [
        "import numpy as np\n",
        "import pandas as pd\n",
        "import seaborn as sns\n",
        "import matplotlib\n",
        "import matplotlib.pyplot as plt\n",
        "# Importing all important libraries to the project"
      ],
      "execution_count": 54,
      "outputs": []
    },
    {
      "cell_type": "code",
      "metadata": {
        "colab": {
          "base_uri": "https://localhost:8080/",
          "height": 402
        },
        "id": "K0mrI0G54sDx",
        "outputId": "4a797b0e-7068-44be-e5b6-d7937af05742"
      },
      "source": [
        "df =pd.read_csv('https://raw.githubusercontent.com/200101081/Project/main/project_df.csv')\n",
        "df\n",
        "# Reading csv file from the link"
      ],
      "execution_count": 67,
      "outputs": [
        {
          "output_type": "execute_result",
          "data": {
            "text/html": [
              "<div>\n",
              "<style scoped>\n",
              "    .dataframe tbody tr th:only-of-type {\n",
              "        vertical-align: middle;\n",
              "    }\n",
              "\n",
              "    .dataframe tbody tr th {\n",
              "        vertical-align: top;\n",
              "    }\n",
              "\n",
              "    .dataframe thead th {\n",
              "        text-align: right;\n",
              "    }\n",
              "</style>\n",
              "<table border=\"1\" class=\"dataframe\">\n",
              "  <thead>\n",
              "    <tr style=\"text-align: right;\">\n",
              "      <th></th>\n",
              "      <th>REGION</th>\n",
              "      <th>STORM_NO</th>\n",
              "      <th>NAME</th>\n",
              "      <th>ADVISORY</th>\n",
              "      <th>ADV_DATE</th>\n",
              "      <th>ADV_HOUR</th>\n",
              "      <th>SPEED</th>\n",
              "      <th>PRESSURE</th>\n",
              "      <th>TYPE</th>\n",
              "      <th>LAT</th>\n",
              "      <th>LONG_</th>\n",
              "    </tr>\n",
              "  </thead>\n",
              "  <tbody>\n",
              "    <tr>\n",
              "      <th>0</th>\n",
              "      <td>S</td>\n",
              "      <td>0</td>\n",
              "      <td>12/2/1997</td>\n",
              "      <td>0</td>\n",
              "      <td>12/3/1997</td>\n",
              "      <td>18</td>\n",
              "      <td>25</td>\n",
              "      <td>0</td>\n",
              "      <td>D</td>\n",
              "      <td>-8.6</td>\n",
              "      <td>0.0</td>\n",
              "    </tr>\n",
              "    <tr>\n",
              "      <th>1</th>\n",
              "      <td>I</td>\n",
              "      <td>0</td>\n",
              "      <td>2/11/1979</td>\n",
              "      <td>0</td>\n",
              "      <td>2/11/1979</td>\n",
              "      <td>12</td>\n",
              "      <td>-999</td>\n",
              "      <td>0</td>\n",
              "      <td>D</td>\n",
              "      <td>-16.4</td>\n",
              "      <td>0.0</td>\n",
              "    </tr>\n",
              "    <tr>\n",
              "      <th>2</th>\n",
              "      <td>A</td>\n",
              "      <td>6</td>\n",
              "      <td>FIFI</td>\n",
              "      <td>0</td>\n",
              "      <td>9/6/1958</td>\n",
              "      <td>6</td>\n",
              "      <td>65</td>\n",
              "      <td>0</td>\n",
              "      <td>S</td>\n",
              "      <td>15.6</td>\n",
              "      <td>-55.7</td>\n",
              "    </tr>\n",
              "    <tr>\n",
              "      <th>3</th>\n",
              "      <td>A</td>\n",
              "      <td>6</td>\n",
              "      <td>FRANCES</td>\n",
              "      <td>0</td>\n",
              "      <td>9/2/2004</td>\n",
              "      <td>0</td>\n",
              "      <td>120</td>\n",
              "      <td>939</td>\n",
              "      <td>H</td>\n",
              "      <td>22.2</td>\n",
              "      <td>-71.4</td>\n",
              "    </tr>\n",
              "    <tr>\n",
              "      <th>4</th>\n",
              "      <td>A</td>\n",
              "      <td>3</td>\n",
              "      <td>UNNAMED</td>\n",
              "      <td>0</td>\n",
              "      <td>9/3/1948</td>\n",
              "      <td>0</td>\n",
              "      <td>40</td>\n",
              "      <td>0</td>\n",
              "      <td>S</td>\n",
              "      <td>53.8</td>\n",
              "      <td>-50.0</td>\n",
              "    </tr>\n",
              "    <tr>\n",
              "      <th>...</th>\n",
              "      <td>...</td>\n",
              "      <td>...</td>\n",
              "      <td>...</td>\n",
              "      <td>...</td>\n",
              "      <td>...</td>\n",
              "      <td>...</td>\n",
              "      <td>...</td>\n",
              "      <td>...</td>\n",
              "      <td>...</td>\n",
              "      <td>...</td>\n",
              "      <td>...</td>\n",
              "    </tr>\n",
              "    <tr>\n",
              "      <th>227569</th>\n",
              "      <td>W</td>\n",
              "      <td>0</td>\n",
              "      <td>THIRTYFIVE</td>\n",
              "      <td>0</td>\n",
              "      <td>12/25/2018</td>\n",
              "      <td>600</td>\n",
              "      <td>25</td>\n",
              "      <td>0</td>\n",
              "      <td>D</td>\n",
              "      <td>135.2</td>\n",
              "      <td>8.2</td>\n",
              "    </tr>\n",
              "    <tr>\n",
              "      <th>227570</th>\n",
              "      <td>W</td>\n",
              "      <td>0</td>\n",
              "      <td>THIRTYFIVE</td>\n",
              "      <td>0</td>\n",
              "      <td>12/25/2018</td>\n",
              "      <td>0</td>\n",
              "      <td>25</td>\n",
              "      <td>0</td>\n",
              "      <td>D</td>\n",
              "      <td>135.7</td>\n",
              "      <td>7.5</td>\n",
              "    </tr>\n",
              "    <tr>\n",
              "      <th>227571</th>\n",
              "      <td>W</td>\n",
              "      <td>0</td>\n",
              "      <td>THIRTYFIVE</td>\n",
              "      <td>0</td>\n",
              "      <td>12/24/2018</td>\n",
              "      <td>1800</td>\n",
              "      <td>25</td>\n",
              "      <td>0</td>\n",
              "      <td>D</td>\n",
              "      <td>135.8</td>\n",
              "      <td>7.2</td>\n",
              "    </tr>\n",
              "    <tr>\n",
              "      <th>227572</th>\n",
              "      <td>W</td>\n",
              "      <td>0</td>\n",
              "      <td>THIRTYSIX</td>\n",
              "      <td>0</td>\n",
              "      <td>12/31/2018</td>\n",
              "      <td>1800</td>\n",
              "      <td>30</td>\n",
              "      <td>0</td>\n",
              "      <td>D</td>\n",
              "      <td>111.0</td>\n",
              "      <td>6.6</td>\n",
              "    </tr>\n",
              "    <tr>\n",
              "      <th>227573</th>\n",
              "      <td>W</td>\n",
              "      <td>0</td>\n",
              "      <td>THIRTYSIX</td>\n",
              "      <td>0</td>\n",
              "      <td>12/31/2018</td>\n",
              "      <td>1200</td>\n",
              "      <td>30</td>\n",
              "      <td>0</td>\n",
              "      <td>D</td>\n",
              "      <td>111.2</td>\n",
              "      <td>7.7</td>\n",
              "    </tr>\n",
              "  </tbody>\n",
              "</table>\n",
              "<p>227574 rows × 11 columns</p>\n",
              "</div>"
            ],
            "text/plain": [
              "       REGION  STORM_NO        NAME  ADVISORY  ... PRESSURE  TYPE    LAT  LONG_\n",
              "0           S         0   12/2/1997         0  ...        0     D   -8.6    0.0\n",
              "1           I         0   2/11/1979         0  ...        0     D  -16.4    0.0\n",
              "2           A         6        FIFI         0  ...        0     S   15.6  -55.7\n",
              "3           A         6     FRANCES         0  ...      939     H   22.2  -71.4\n",
              "4           A         3     UNNAMED         0  ...        0     S   53.8  -50.0\n",
              "...       ...       ...         ...       ...  ...      ...   ...    ...    ...\n",
              "227569      W         0  THIRTYFIVE         0  ...        0     D  135.2    8.2\n",
              "227570      W         0  THIRTYFIVE         0  ...        0     D  135.7    7.5\n",
              "227571      W         0  THIRTYFIVE         0  ...        0     D  135.8    7.2\n",
              "227572      W         0   THIRTYSIX         0  ...        0     D  111.0    6.6\n",
              "227573      W         0   THIRTYSIX         0  ...        0     D  111.2    7.7\n",
              "\n",
              "[227574 rows x 11 columns]"
            ]
          },
          "metadata": {
            "tags": []
          },
          "execution_count": 67
        }
      ]
    },
    {
      "cell_type": "code",
      "metadata": {
        "colab": {
          "base_uri": "https://localhost:8080/"
        },
        "id": "wrpCfZy88pHp",
        "outputId": "cc7ea724-d19c-477a-99de-ae56b609dfce"
      },
      "source": [
        "df.info()\n",
        "# Additional information about data"
      ],
      "execution_count": 68,
      "outputs": [
        {
          "output_type": "stream",
          "text": [
            "<class 'pandas.core.frame.DataFrame'>\n",
            "RangeIndex: 227574 entries, 0 to 227573\n",
            "Data columns (total 11 columns):\n",
            " #   Column    Non-Null Count   Dtype  \n",
            "---  ------    --------------   -----  \n",
            " 0   REGION    227574 non-null  object \n",
            " 1   STORM_NO  227574 non-null  int64  \n",
            " 2   NAME      227574 non-null  object \n",
            " 3   ADVISORY  227574 non-null  int64  \n",
            " 4   ADV_DATE  227506 non-null  object \n",
            " 5   ADV_HOUR  227574 non-null  int64  \n",
            " 6   SPEED     227574 non-null  int64  \n",
            " 7   PRESSURE  227574 non-null  int64  \n",
            " 8   TYPE      227563 non-null  object \n",
            " 9   LAT       227574 non-null  float64\n",
            " 10  LONG_     227574 non-null  float64\n",
            "dtypes: float64(2), int64(5), object(4)\n",
            "memory usage: 19.1+ MB\n"
          ],
          "name": "stdout"
        }
      ]
    },
    {
      "cell_type": "code",
      "metadata": {
        "colab": {
          "base_uri": "https://localhost:8080/"
        },
        "id": "n7PimH9CAzZx",
        "outputId": "e455d3b5-fd95-46d3-e478-ad29ed3f2b6b"
      },
      "source": [
        "num_ft = [var for var in df.columns if df[var].dtypes != 'O']\n",
        "num_ft_num = len(num_ft)\n",
        "print('Number of numerical features: ', num_ft_num)\n",
        "for var in num_ft:\n",
        "    print(var)\n",
        "\n",
        "#Finding numerical features of the dataframe"
      ],
      "execution_count": 69,
      "outputs": [
        {
          "output_type": "stream",
          "text": [
            "Number of numerical features:  7\n",
            "STORM_NO\n",
            "ADVISORY\n",
            "ADV_HOUR\n",
            "SPEED\n",
            "PRESSURE\n",
            "LAT\n",
            "LONG_\n"
          ],
          "name": "stdout"
        }
      ]
    },
    {
      "cell_type": "code",
      "metadata": {
        "colab": {
          "base_uri": "https://localhost:8080/",
          "height": 195
        },
        "id": "QdlzZm8eA5z6",
        "outputId": "fa969b2f-6670-474f-8878-018d9deda3ee"
      },
      "source": [
        "new_df = df.isnull()\n",
        "new_df.tail()\n",
        "# Showing where in dataframe data is null"
      ],
      "execution_count": 70,
      "outputs": [
        {
          "output_type": "execute_result",
          "data": {
            "text/html": [
              "<div>\n",
              "<style scoped>\n",
              "    .dataframe tbody tr th:only-of-type {\n",
              "        vertical-align: middle;\n",
              "    }\n",
              "\n",
              "    .dataframe tbody tr th {\n",
              "        vertical-align: top;\n",
              "    }\n",
              "\n",
              "    .dataframe thead th {\n",
              "        text-align: right;\n",
              "    }\n",
              "</style>\n",
              "<table border=\"1\" class=\"dataframe\">\n",
              "  <thead>\n",
              "    <tr style=\"text-align: right;\">\n",
              "      <th></th>\n",
              "      <th>REGION</th>\n",
              "      <th>STORM_NO</th>\n",
              "      <th>NAME</th>\n",
              "      <th>ADVISORY</th>\n",
              "      <th>ADV_DATE</th>\n",
              "      <th>ADV_HOUR</th>\n",
              "      <th>SPEED</th>\n",
              "      <th>PRESSURE</th>\n",
              "      <th>TYPE</th>\n",
              "      <th>LAT</th>\n",
              "      <th>LONG_</th>\n",
              "    </tr>\n",
              "  </thead>\n",
              "  <tbody>\n",
              "    <tr>\n",
              "      <th>227569</th>\n",
              "      <td>False</td>\n",
              "      <td>False</td>\n",
              "      <td>False</td>\n",
              "      <td>False</td>\n",
              "      <td>False</td>\n",
              "      <td>False</td>\n",
              "      <td>False</td>\n",
              "      <td>False</td>\n",
              "      <td>False</td>\n",
              "      <td>False</td>\n",
              "      <td>False</td>\n",
              "    </tr>\n",
              "    <tr>\n",
              "      <th>227570</th>\n",
              "      <td>False</td>\n",
              "      <td>False</td>\n",
              "      <td>False</td>\n",
              "      <td>False</td>\n",
              "      <td>False</td>\n",
              "      <td>False</td>\n",
              "      <td>False</td>\n",
              "      <td>False</td>\n",
              "      <td>False</td>\n",
              "      <td>False</td>\n",
              "      <td>False</td>\n",
              "    </tr>\n",
              "    <tr>\n",
              "      <th>227571</th>\n",
              "      <td>False</td>\n",
              "      <td>False</td>\n",
              "      <td>False</td>\n",
              "      <td>False</td>\n",
              "      <td>False</td>\n",
              "      <td>False</td>\n",
              "      <td>False</td>\n",
              "      <td>False</td>\n",
              "      <td>False</td>\n",
              "      <td>False</td>\n",
              "      <td>False</td>\n",
              "    </tr>\n",
              "    <tr>\n",
              "      <th>227572</th>\n",
              "      <td>False</td>\n",
              "      <td>False</td>\n",
              "      <td>False</td>\n",
              "      <td>False</td>\n",
              "      <td>False</td>\n",
              "      <td>False</td>\n",
              "      <td>False</td>\n",
              "      <td>False</td>\n",
              "      <td>False</td>\n",
              "      <td>False</td>\n",
              "      <td>False</td>\n",
              "    </tr>\n",
              "    <tr>\n",
              "      <th>227573</th>\n",
              "      <td>False</td>\n",
              "      <td>False</td>\n",
              "      <td>False</td>\n",
              "      <td>False</td>\n",
              "      <td>False</td>\n",
              "      <td>False</td>\n",
              "      <td>False</td>\n",
              "      <td>False</td>\n",
              "      <td>False</td>\n",
              "      <td>False</td>\n",
              "      <td>False</td>\n",
              "    </tr>\n",
              "  </tbody>\n",
              "</table>\n",
              "</div>"
            ],
            "text/plain": [
              "        REGION  STORM_NO   NAME  ADVISORY  ...  PRESSURE   TYPE    LAT  LONG_\n",
              "227569   False     False  False     False  ...     False  False  False  False\n",
              "227570   False     False  False     False  ...     False  False  False  False\n",
              "227571   False     False  False     False  ...     False  False  False  False\n",
              "227572   False     False  False     False  ...     False  False  False  False\n",
              "227573   False     False  False     False  ...     False  False  False  False\n",
              "\n",
              "[5 rows x 11 columns]"
            ]
          },
          "metadata": {
            "tags": []
          },
          "execution_count": 70
        }
      ]
    },
    {
      "cell_type": "code",
      "metadata": {
        "colab": {
          "base_uri": "https://localhost:8080/"
        },
        "id": "LgMADF_hOaYE",
        "outputId": "f7daae3f-9b82-4a0a-b6fe-5a2c7b795095"
      },
      "source": [
        "# Dropping the missing values of dataframe\n",
        "df = df.dropna() \n",
        "df.count()"
      ],
      "execution_count": 78,
      "outputs": [
        {
          "output_type": "execute_result",
          "data": {
            "text/plain": [
              "region      227495\n",
              "storm_no    227495\n",
              "name        227495\n",
              "ADVISORY    227495\n",
              "ADV_DATE    227495\n",
              "ADV_HOUR    227495\n",
              "speed       227495\n",
              "pressure    227495\n",
              "type        227495\n",
              "LAT         227495\n",
              "LONG_       227495\n",
              "dtype: int64"
            ]
          },
          "metadata": {
            "tags": []
          },
          "execution_count": 78
        }
      ]
    },
    {
      "cell_type": "code",
      "metadata": {
        "colab": {
          "base_uri": "https://localhost:8080/"
        },
        "id": "WV-x44tbOhrQ",
        "outputId": "c3d16f7e-5d98-4782-e5ce-f7a0771b8484"
      },
      "source": [
        "# After dropping the values that are null\n",
        "print(df.isnull().sum())"
      ],
      "execution_count": 79,
      "outputs": [
        {
          "output_type": "stream",
          "text": [
            "region      0\n",
            "storm_no    0\n",
            "name        0\n",
            "ADVISORY    0\n",
            "ADV_DATE    0\n",
            "ADV_HOUR    0\n",
            "speed       0\n",
            "pressure    0\n",
            "type        0\n",
            "LAT         0\n",
            "LONG_       0\n",
            "dtype: int64\n"
          ],
          "name": "stdout"
        }
      ]
    },
    {
      "cell_type": "code",
      "metadata": {
        "colab": {
          "base_uri": "https://localhost:8080/"
        },
        "id": "UU9Q7rwVGt-I",
        "outputId": "967144e0-5e27-4aa1-f2e0-97326bbc85b1"
      },
      "source": [
        "df.dtypes\n",
        "#Checking the data type"
      ],
      "execution_count": 71,
      "outputs": [
        {
          "output_type": "execute_result",
          "data": {
            "text/plain": [
              "REGION       object\n",
              "STORM_NO      int64\n",
              "NAME         object\n",
              "ADVISORY      int64\n",
              "ADV_DATE     object\n",
              "ADV_HOUR      int64\n",
              "SPEED         int64\n",
              "PRESSURE      int64\n",
              "TYPE         object\n",
              "LAT         float64\n",
              "LONG_       float64\n",
              "dtype: object"
            ]
          },
          "metadata": {
            "tags": []
          },
          "execution_count": 71
        }
      ]
    },
    {
      "cell_type": "code",
      "metadata": {
        "colab": {
          "base_uri": "https://localhost:8080/",
          "height": 343
        },
        "id": "tEtZE6MyLQHo",
        "outputId": "4d890dd3-b9be-41a5-bb21-9fd141198937"
      },
      "source": [
        "df = df.rename(columns={\"REGION\": \"region\", \"STORM_NO\": \"storm_no\", \"NAME\": \"name\", \"SPEED\": \"speed\",\"PRESSURE\": \"pressure\", \"TYPE\": \"type\"})\n",
        "df.head(10)"
      ],
      "execution_count": 74,
      "outputs": [
        {
          "output_type": "execute_result",
          "data": {
            "text/html": [
              "<div>\n",
              "<style scoped>\n",
              "    .dataframe tbody tr th:only-of-type {\n",
              "        vertical-align: middle;\n",
              "    }\n",
              "\n",
              "    .dataframe tbody tr th {\n",
              "        vertical-align: top;\n",
              "    }\n",
              "\n",
              "    .dataframe thead th {\n",
              "        text-align: right;\n",
              "    }\n",
              "</style>\n",
              "<table border=\"1\" class=\"dataframe\">\n",
              "  <thead>\n",
              "    <tr style=\"text-align: right;\">\n",
              "      <th></th>\n",
              "      <th>region</th>\n",
              "      <th>storm_no</th>\n",
              "      <th>name</th>\n",
              "      <th>ADVISORY</th>\n",
              "      <th>ADV_DATE</th>\n",
              "      <th>ADV_HOUR</th>\n",
              "      <th>speed</th>\n",
              "      <th>pressure</th>\n",
              "      <th>type</th>\n",
              "      <th>LAT</th>\n",
              "      <th>LONG_</th>\n",
              "    </tr>\n",
              "  </thead>\n",
              "  <tbody>\n",
              "    <tr>\n",
              "      <th>0</th>\n",
              "      <td>S</td>\n",
              "      <td>0</td>\n",
              "      <td>12/2/1997</td>\n",
              "      <td>0</td>\n",
              "      <td>12/3/1997</td>\n",
              "      <td>18</td>\n",
              "      <td>25</td>\n",
              "      <td>0</td>\n",
              "      <td>D</td>\n",
              "      <td>-8.6</td>\n",
              "      <td>0.0</td>\n",
              "    </tr>\n",
              "    <tr>\n",
              "      <th>1</th>\n",
              "      <td>I</td>\n",
              "      <td>0</td>\n",
              "      <td>2/11/1979</td>\n",
              "      <td>0</td>\n",
              "      <td>2/11/1979</td>\n",
              "      <td>12</td>\n",
              "      <td>-999</td>\n",
              "      <td>0</td>\n",
              "      <td>D</td>\n",
              "      <td>-16.4</td>\n",
              "      <td>0.0</td>\n",
              "    </tr>\n",
              "    <tr>\n",
              "      <th>2</th>\n",
              "      <td>A</td>\n",
              "      <td>6</td>\n",
              "      <td>FIFI</td>\n",
              "      <td>0</td>\n",
              "      <td>9/6/1958</td>\n",
              "      <td>6</td>\n",
              "      <td>65</td>\n",
              "      <td>0</td>\n",
              "      <td>S</td>\n",
              "      <td>15.6</td>\n",
              "      <td>-55.7</td>\n",
              "    </tr>\n",
              "    <tr>\n",
              "      <th>3</th>\n",
              "      <td>A</td>\n",
              "      <td>6</td>\n",
              "      <td>FRANCES</td>\n",
              "      <td>0</td>\n",
              "      <td>9/2/2004</td>\n",
              "      <td>0</td>\n",
              "      <td>120</td>\n",
              "      <td>939</td>\n",
              "      <td>H</td>\n",
              "      <td>22.2</td>\n",
              "      <td>-71.4</td>\n",
              "    </tr>\n",
              "    <tr>\n",
              "      <th>4</th>\n",
              "      <td>A</td>\n",
              "      <td>3</td>\n",
              "      <td>UNNAMED</td>\n",
              "      <td>0</td>\n",
              "      <td>9/3/1948</td>\n",
              "      <td>0</td>\n",
              "      <td>40</td>\n",
              "      <td>0</td>\n",
              "      <td>S</td>\n",
              "      <td>53.8</td>\n",
              "      <td>-50.0</td>\n",
              "    </tr>\n",
              "    <tr>\n",
              "      <th>5</th>\n",
              "      <td>A</td>\n",
              "      <td>9</td>\n",
              "      <td>HELENE</td>\n",
              "      <td>0</td>\n",
              "      <td>9/27/1988</td>\n",
              "      <td>18</td>\n",
              "      <td>77</td>\n",
              "      <td>979</td>\n",
              "      <td>H</td>\n",
              "      <td>30.9</td>\n",
              "      <td>-51.9</td>\n",
              "    </tr>\n",
              "    <tr>\n",
              "      <th>6</th>\n",
              "      <td>I</td>\n",
              "      <td>0</td>\n",
              "      <td>1/2/1966</td>\n",
              "      <td>0</td>\n",
              "      <td>1/4/1966</td>\n",
              "      <td>12</td>\n",
              "      <td>-999</td>\n",
              "      <td>0</td>\n",
              "      <td>D</td>\n",
              "      <td>-13.7</td>\n",
              "      <td>0.0</td>\n",
              "    </tr>\n",
              "    <tr>\n",
              "      <th>7</th>\n",
              "      <td>A</td>\n",
              "      <td>3</td>\n",
              "      <td>CINDY</td>\n",
              "      <td>0</td>\n",
              "      <td>7/9/2005</td>\n",
              "      <td>6</td>\n",
              "      <td>25</td>\n",
              "      <td>1009</td>\n",
              "      <td>D</td>\n",
              "      <td>40.8</td>\n",
              "      <td>-70.7</td>\n",
              "    </tr>\n",
              "    <tr>\n",
              "      <th>8</th>\n",
              "      <td>I</td>\n",
              "      <td>0</td>\n",
              "      <td>4/4/1992</td>\n",
              "      <td>0</td>\n",
              "      <td>4/6/1992</td>\n",
              "      <td>18</td>\n",
              "      <td>40</td>\n",
              "      <td>0</td>\n",
              "      <td>S</td>\n",
              "      <td>-10.3</td>\n",
              "      <td>0.0</td>\n",
              "    </tr>\n",
              "    <tr>\n",
              "      <th>9</th>\n",
              "      <td>S</td>\n",
              "      <td>0</td>\n",
              "      <td>1/29/1963</td>\n",
              "      <td>0</td>\n",
              "      <td>1/30/1963</td>\n",
              "      <td>18</td>\n",
              "      <td>-999</td>\n",
              "      <td>0</td>\n",
              "      <td>D</td>\n",
              "      <td>-20.1</td>\n",
              "      <td>0.0</td>\n",
              "    </tr>\n",
              "  </tbody>\n",
              "</table>\n",
              "</div>"
            ],
            "text/plain": [
              "  region  storm_no       name  ADVISORY  ... pressure  type   LAT  LONG_\n",
              "0      S         0  12/2/1997         0  ...        0     D  -8.6    0.0\n",
              "1      I         0  2/11/1979         0  ...        0     D -16.4    0.0\n",
              "2      A         6       FIFI         0  ...        0     S  15.6  -55.7\n",
              "3      A         6    FRANCES         0  ...      939     H  22.2  -71.4\n",
              "4      A         3    UNNAMED         0  ...        0     S  53.8  -50.0\n",
              "5      A         9     HELENE         0  ...      979     H  30.9  -51.9\n",
              "6      I         0   1/2/1966         0  ...        0     D -13.7    0.0\n",
              "7      A         3      CINDY         0  ...     1009     D  40.8  -70.7\n",
              "8      I         0   4/4/1992         0  ...        0     S -10.3    0.0\n",
              "9      S         0  1/29/1963         0  ...        0     D -20.1    0.0\n",
              "\n",
              "[10 rows x 11 columns]"
            ]
          },
          "metadata": {
            "tags": []
          },
          "execution_count": 74
        }
      ]
    },
    {
      "cell_type": "code",
      "metadata": {
        "colab": {
          "base_uri": "https://localhost:8080/"
        },
        "id": "_KKzxbWpNssT",
        "outputId": "4d395f55-a8c8-4102-f4ee-a500de48325f"
      },
      "source": [
        "# Total number of rows and columns in data frame\n",
        "df.shape\n",
        "\n"
      ],
      "execution_count": 75,
      "outputs": [
        {
          "output_type": "execute_result",
          "data": {
            "text/plain": [
              "(227574, 11)"
            ]
          },
          "metadata": {
            "tags": []
          },
          "execution_count": 75
        }
      ]
    },
    {
      "cell_type": "code",
      "metadata": {
        "colab": {
          "base_uri": "https://localhost:8080/",
          "height": 302
        },
        "id": "BfMutXL4OvyJ",
        "outputId": "b3dae0af-4f40-4f4f-8eb4-f11109d5d20d"
      },
      "source": [
        "sns.boxplot(x=df['speed'])"
      ],
      "execution_count": 80,
      "outputs": [
        {
          "output_type": "execute_result",
          "data": {
            "text/plain": [
              "<matplotlib.axes._subplots.AxesSubplot at 0x7fb4da7e8e50>"
            ]
          },
          "metadata": {
            "tags": []
          },
          "execution_count": 80
        },
        {
          "output_type": "display_data",
          "data": {
            "image/png": "[encoded data removed]",
            "text/plain": [
              "<Figure size 432x288 with 1 Axes>"
            ]
          },
          "metadata": {
            "tags": []
          }
        }
      ]
    },
    {
      "cell_type": "code",
      "metadata": {
        "colab": {
          "base_uri": "https://localhost:8080/",
          "height": 302
        },
        "id": "KX8l6BfqO1Dy",
        "outputId": "04cbf869-765d-4038-8f6a-846c600d1827"
      },
      "source": [
        "sns.boxplot(x=df['ADV_HOUR'])"
      ],
      "execution_count": 81,
      "outputs": [
        {
          "output_type": "execute_result",
          "data": {
            "text/plain": [
              "<matplotlib.axes._subplots.AxesSubplot at 0x7fb4da5597d0>"
            ]
          },
          "metadata": {
            "tags": []
          },
          "execution_count": 81
        },
        {
          "output_type": "display_data",
          "data": {
            "image/png": "[encoded data removed]",
            "text/plain": [
              "<Figure size 432x288 with 1 Axes>"
            ]
          },
          "metadata": {
            "tags": []
          }
        }
      ]
    },
    {
      "cell_type": "code",
      "metadata": {
        "colab": {
          "base_uri": "https://localhost:8080/",
          "height": 302
        },
        "id": "vtx8t1W7PA8I",
        "outputId": "606fb255-a854-49c2-8888-6cdff6ef2882"
      },
      "source": [
        "sns.boxplot(x=df['storm_no'])"
      ],
      "execution_count": 82,
      "outputs": [
        {
          "output_type": "execute_result",
          "data": {
            "text/plain": [
              "<matplotlib.axes._subplots.AxesSubplot at 0x7fb4da084810>"
            ]
          },
          "metadata": {
            "tags": []
          },
          "execution_count": 82
        },
        {
          "output_type": "display_data",
          "data": {
            "image/png": "[encoded data removed]",
            "text/plain": [
              "<Figure size 432x288 with 1 Axes>"
            ]
          },
          "metadata": {
            "tags": []
          }
        }
      ]
    },
    {
      "cell_type": "code",
      "metadata": {
        "colab": {
          "base_uri": "https://localhost:8080/",
          "height": 394
        },
        "id": "WscemJ8rP4Ng",
        "outputId": "c3359926-0797-4cd7-cc12-b85034478a95"
      },
      "source": [
        "# Plotting a scatter plot \n",
        "fig, ax = plt.subplots(figsize=(10,6))\n",
        "ax.scatter(df['ADV_HOUR'], df['ADVISORY'])\n",
        "ax.set_xlabel('ADV_HOUR')\n",
        "ax.set_ylabel('ADVISORY')\n",
        "plt.show()"
      ],
      "execution_count": 88,
      "outputs": [
        {
          "output_type": "display_data",
          "data": {
            "image/png": "[encoded data removed]",
            "text/plain": [
              "<Figure size 720x432 with 1 Axes>"
            ]
          },
          "metadata": {
            "tags": []
          }
        }
      ]
    },
    {
      "cell_type": "code",
      "metadata": {
        "colab": {
          "base_uri": "https://localhost:8080/",
          "height": 395
        },
        "id": "vdBzG7PURAhp",
        "outputId": "51ef39a7-fa1f-41eb-e343-95dedd71e4c1"
      },
      "source": [
        "# Plotting a Histogram\n",
        "df.name.value_counts().nlargest(40).plot(kind='bar', figsize=(10,5))\n",
        "plt.ylabel('ADV_HOUR')\n",
        "plt.xlabel('name');\n"
      ],
      "execution_count": 90,
      "outputs": [
        {
          "output_type": "display_data",
          "data": {
            "image/png": "[encoded data removed]",
            "text/plain": [
              "<Figure size 720x360 with 1 Axes>"
            ]
          },
          "metadata": {
            "tags": []
          }
        }
      ]
    },
    {
      "cell_type": "code",
      "metadata": {
        "colab": {
          "base_uri": "https://localhost:8080/",
          "height": 837
        },
        "id": "XvMPF68XRi_Y",
        "outputId": "12ef585b-563e-4288-a723-65be6680eebf"
      },
      "source": [
        "# Finding the relations between the variables of dataframe to do it I used Heatmap\n",
        "plt.figure(figsize=(20,10))\n",
        "c= df.corr()\n",
        "sns.heatmap(c,cmap=\"BrBG\",annot=True)\n",
        "c"
      ],
      "execution_count": 92,
      "outputs": [
        {
          "output_type": "execute_result",
          "data": {
            "text/html": [
              "<div>\n",
              "<style scoped>\n",
              "    .dataframe tbody tr th:only-of-type {\n",
              "        vertical-align: middle;\n",
              "    }\n",
              "\n",
              "    .dataframe tbody tr th {\n",
              "        vertical-align: top;\n",
              "    }\n",
              "\n",
              "    .dataframe thead th {\n",
              "        text-align: right;\n",
              "    }\n",
              "</style>\n",
              "<table border=\"1\" class=\"dataframe\">\n",
              "  <thead>\n",
              "    <tr style=\"text-align: right;\">\n",
              "      <th></th>\n",
              "      <th>storm_no</th>\n",
              "      <th>ADVISORY</th>\n",
              "      <th>ADV_HOUR</th>\n",
              "      <th>speed</th>\n",
              "      <th>pressure</th>\n",
              "      <th>LAT</th>\n",
              "      <th>LONG_</th>\n",
              "    </tr>\n",
              "  </thead>\n",
              "  <tbody>\n",
              "    <tr>\n",
              "      <th>storm_no</th>\n",
              "      <td>1.000000</td>\n",
              "      <td>-0.004174</td>\n",
              "      <td>-0.014414</td>\n",
              "      <td>0.080560</td>\n",
              "      <td>0.084347</td>\n",
              "      <td>0.093511</td>\n",
              "      <td>0.055398</td>\n",
              "    </tr>\n",
              "    <tr>\n",
              "      <th>ADVISORY</th>\n",
              "      <td>-0.004174</td>\n",
              "      <td>1.000000</td>\n",
              "      <td>-0.023942</td>\n",
              "      <td>0.140083</td>\n",
              "      <td>-0.225242</td>\n",
              "      <td>0.110610</td>\n",
              "      <td>0.217050</td>\n",
              "    </tr>\n",
              "    <tr>\n",
              "      <th>ADV_HOUR</th>\n",
              "      <td>-0.014414</td>\n",
              "      <td>-0.023942</td>\n",
              "      <td>1.000000</td>\n",
              "      <td>0.022820</td>\n",
              "      <td>-0.038463</td>\n",
              "      <td>0.298564</td>\n",
              "      <td>0.042968</td>\n",
              "    </tr>\n",
              "    <tr>\n",
              "      <th>speed</th>\n",
              "      <td>0.080560</td>\n",
              "      <td>0.140083</td>\n",
              "      <td>0.022820</td>\n",
              "      <td>1.000000</td>\n",
              "      <td>0.224515</td>\n",
              "      <td>0.471214</td>\n",
              "      <td>-0.191429</td>\n",
              "    </tr>\n",
              "    <tr>\n",
              "      <th>pressure</th>\n",
              "      <td>0.084347</td>\n",
              "      <td>-0.225242</td>\n",
              "      <td>-0.038463</td>\n",
              "      <td>0.224515</td>\n",
              "      <td>1.000000</td>\n",
              "      <td>0.323315</td>\n",
              "      <td>-0.467663</td>\n",
              "    </tr>\n",
              "    <tr>\n",
              "      <th>LAT</th>\n",
              "      <td>0.093511</td>\n",
              "      <td>0.110610</td>\n",
              "      <td>0.298564</td>\n",
              "      <td>0.471214</td>\n",
              "      <td>0.323315</td>\n",
              "      <td>1.000000</td>\n",
              "      <td>-0.339019</td>\n",
              "    </tr>\n",
              "    <tr>\n",
              "      <th>LONG_</th>\n",
              "      <td>0.055398</td>\n",
              "      <td>0.217050</td>\n",
              "      <td>0.042968</td>\n",
              "      <td>-0.191429</td>\n",
              "      <td>-0.467663</td>\n",
              "      <td>-0.339019</td>\n",
              "      <td>1.000000</td>\n",
              "    </tr>\n",
              "  </tbody>\n",
              "</table>\n",
              "</div>"
            ],
            "text/plain": [
              "          storm_no  ADVISORY  ADV_HOUR     speed  pressure       LAT     LONG_\n",
              "storm_no  1.000000 -0.004174 -0.014414  0.080560  0.084347  0.093511  0.055398\n",
              "ADVISORY -0.004174  1.000000 -0.023942  0.140083 -0.225242  0.110610  0.217050\n",
              "ADV_HOUR -0.014414 -0.023942  1.000000  0.022820 -0.038463  0.298564  0.042968\n",
              "speed     0.080560  0.140083  0.022820  1.000000  0.224515  0.471214 -0.191429\n",
              "pressure  0.084347 -0.225242 -0.038463  0.224515  1.000000  0.323315 -0.467663\n",
              "LAT       0.093511  0.110610  0.298564  0.471214  0.323315  1.000000 -0.339019\n",
              "LONG_     0.055398  0.217050  0.042968 -0.191429 -0.467663 -0.339019  1.000000"
            ]
          },
          "metadata": {
            "tags": []
          },
          "execution_count": 92
        },
        {
          "output_type": "display_data",
          "data": {
            "image/png": "[encoded data removed]",
            "text/plain": [
              "<Figure size 1440x720 with 2 Axes>"
            ]
          },
          "metadata": {
            "tags": []
          }
        }
      ]
    }
  ]
}